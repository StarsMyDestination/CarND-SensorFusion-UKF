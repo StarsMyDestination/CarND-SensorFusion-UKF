{
 "cells": [
  {
   "cell_type": "code",
   "execution_count": null,
   "metadata": {
    "collapsed": true
   },
   "outputs": [],
   "source": [
    "import pandas as pd\n",
    "import math\n",
    "import numpy as np\n",
    "import matplotlib.pyplot as plt\n",
    "from scipy.optimize import curve_fit\n",
    "%matplotlib inline"
   ]
  },
  {
   "cell_type": "code",
   "execution_count": null,
   "metadata": {
    "collapsed": false
   },
   "outputs": [],
   "source": [
    "my_cols=['c1','c2','c3','c4','c5','c6','c7','c8','c9']\n",
    "with open('../data/sample-laser-radar-measurement-data-1.txt') as f:\n",
    "    table1 = pd.read_table(f, sep='\\t', header=None, names=my_cols, lineterminator='\\n')\n",
    "\n",
    "with open('../data/sample-laser-radar-measurement-data-2.txt') as f:\n",
    "    table2 = pd.read_table(f, sep='\\t', header=None, names=my_cols, lineterminator='\\n')\n",
    "    \n",
    "table = pd.concat([table1,table2])\n",
    "\n",
    "\n",
    "laser_df = table[table['c1']=='L']\n",
    "del laser_df['c9']\n",
    "del laser_df['c1']\n",
    "laser_df.columns = ['x','y','timestamp','gpx','gpy','gvx','gvy']\n",
    "\n",
    "radar_df = table[table['c1']=='R']\n",
    "del radar_df['c1']\n",
    "radar_df.columns = ['rho','phi','rho_dot','timestamp','gpx','gpy','gvx','gvy']"
   ]
  },
  {
   "cell_type": "code",
   "execution_count": null,
   "metadata": {
    "collapsed": false
   },
   "outputs": [],
   "source": [
    "laser_df.head(5)"
   ]
  },
  {
   "cell_type": "code",
   "execution_count": null,
   "metadata": {
    "collapsed": false
   },
   "outputs": [],
   "source": [
    "radar_df.head(5)"
   ]
  },
  {
   "cell_type": "markdown",
   "metadata": {},
   "source": [
    "### Extract the x, y data and the corresponding ground truth data"
   ]
  },
  {
   "cell_type": "code",
   "execution_count": null,
   "metadata": {
    "collapsed": true
   },
   "outputs": [],
   "source": [
    "xdata=np.array(laser_df['x'].values)\n",
    "gpxdata=np.array(laser_df['gpx'].values)\n",
    "vxdata=gpxdata-xdata\n",
    "ydata=np.array(laser_df['y'].values)\n",
    "gpydata=np.array(laser_df['gpy'].values)\n",
    "vydata=gpydata-ydata"
   ]
  },
  {
   "cell_type": "code",
   "execution_count": null,
   "metadata": {
    "collapsed": false
   },
   "outputs": [],
   "source": [
    "plt.plot(xdata, ydata, 'b-', label='data')\n",
    "plt.plot(gpxdata, gpydata, 'g-', label='gt')"
   ]
  },
  {
   "cell_type": "markdown",
   "metadata": {},
   "source": [
    "### Have a look at the difference between the x, y and ground truth x y"
   ]
  },
  {
   "cell_type": "code",
   "execution_count": null,
   "metadata": {
    "collapsed": false
   },
   "outputs": [],
   "source": [
    "plt.plot(vxdata)"
   ]
  },
  {
   "cell_type": "code",
   "execution_count": null,
   "metadata": {
    "collapsed": false
   },
   "outputs": [],
   "source": [
    "plt.plot(vydata)"
   ]
  },
  {
   "cell_type": "markdown",
   "metadata": {},
   "source": [
    "### Variance in the differences (laser data)"
   ]
  },
  {
   "cell_type": "code",
   "execution_count": null,
   "metadata": {
    "collapsed": false
   },
   "outputs": [],
   "source": [
    "np.var(vxdata), np.var(vydata)"
   ]
  },
  {
   "cell_type": "markdown",
   "metadata": {},
   "source": [
    "### Variance in the differences (radar data) - converted between cartesian/polar"
   ]
  },
  {
   "cell_type": "code",
   "execution_count": null,
   "metadata": {
    "collapsed": true
   },
   "outputs": [],
   "source": [
    "def calc_hx(gpx,gpy,gvx,gvy):\n",
    "    if gpx == 0:\n",
    "        return 0,0,0\n",
    "    rho = math.sqrt(gpx*gpx + gpy*gpy)\n",
    "    phi = math.atan(gpy/gpx)\n",
    "    rho_dot = (gpx*gvx + gpy*gvy)/rho\n",
    "    return np.array([rho,phi,rho_dot])"
   ]
  },
  {
   "cell_type": "code",
   "execution_count": null,
   "metadata": {
    "collapsed": false,
    "scrolled": false
   },
   "outputs": [],
   "source": [
    "ghs=[ np.hstack([z[0], z[1], z[2], calc_hx(z[3], z[4], z[5], z[6])]) for z in radar_df.as_matrix(['rho', 'phi', 'rho_dot', 'gpx', 'gpy', 'gvx', 'gvy'])]\n",
    "\n",
    "gr_df = pd.DataFrame(ghs)\n",
    "gr_df.columns = ['rho', 'phi', 'rho_dot', 'grho', 'gphi', 'grho_dot']\n",
    "vrhodata=np.array(gr_df['grho'].values -gr_df['rho'].values)\n",
    "vphidata=np.array(gr_df['gphi'].values -gr_df['phi'].values)\n",
    "vrhodotdata=np.array(gr_df['grho_dot'].values -gr_df['rho_dot'].values)\n",
    "#gr_df"
   ]
  },
  {
   "cell_type": "code",
   "execution_count": null,
   "metadata": {
    "collapsed": false
   },
   "outputs": [],
   "source": [
    "np.var(vrhodata), np.var(vphidata), np.var(vrhodotdata)"
   ]
  },
  {
   "cell_type": "code",
   "execution_count": null,
   "metadata": {
    "collapsed": false
   },
   "outputs": [],
   "source": [
    "cov_table = table.copy()\n",
    "cov_table.reindex()\n",
    "del cov_table['c7']\n",
    "del cov_table['c8']\n",
    "del cov_table['c9']\n",
    "#cov_table.columns = ['px','py','v','gpx','gpy','gvx','gvy']\n",
    "cov_table.cov()"
   ]
  },
  {
   "cell_type": "code",
   "execution_count": null,
   "metadata": {
    "collapsed": true
   },
   "outputs": [],
   "source": []
  }
 ],
 "metadata": {
  "kernelspec": {
   "display_name": "Python 3",
   "language": "python",
   "name": "python3"
  },
  "language_info": {
   "codemirror_mode": {
    "name": "ipython",
    "version": 3
   },
   "file_extension": ".py",
   "mimetype": "text/x-python",
   "name": "python",
   "nbconvert_exporter": "python",
   "pygments_lexer": "ipython3",
   "version": "3.6.0"
  }
 },
 "nbformat": 4,
 "nbformat_minor": 2
}
