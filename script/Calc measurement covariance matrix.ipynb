{
 "cells": [
  {
   "cell_type": "code",
   "execution_count": 1,
   "metadata": {
    "collapsed": true
   },
   "outputs": [],
   "source": [
    "import pandas as pd\n",
    "import math\n",
    "import numpy as np\n",
    "import matplotlib.pyplot as plt\n",
    "from scipy.optimize import curve_fit\n",
    "%matplotlib inline"
   ]
  },
  {
   "cell_type": "code",
   "execution_count": 2,
   "metadata": {
    "collapsed": false
   },
   "outputs": [],
   "source": [
    "my_cols=['c1','c2','c3','c4','c5','c6','c7','c8','c9']\n",
    "with open('../data/sample-laser-radar-measurement-data-1.txt') as f:\n",
    "    table1 = pd.read_table(f, sep='\\t', header=None, names=my_cols, lineterminator='\\n')\n",
    "\n",
    "with open('../data/sample-laser-radar-measurement-data-2.txt') as f:\n",
    "    table2 = pd.read_table(f, sep='\\t', header=None, names=my_cols, lineterminator='\\n')\n",
    "    \n",
    "table = pd.concat([table1,table2])\n",
    "\n",
    "\n",
    "laser_df = table[table['c1']=='L']\n",
    "del laser_df['c9']\n",
    "del laser_df['c1']\n",
    "laser_df.columns = ['x','y','timestamp','gpx','gpy','gvx','gvy']\n",
    "\n",
    "radar_df = table[table['c1']=='R']\n",
    "del radar_df['c1']\n",
    "radar_df.columns = ['rho','phi','rho_dot','timestamp','gpx','gpy','gvx','gvy']"
   ]
  },
  {
   "cell_type": "code",
   "execution_count": 3,
   "metadata": {
    "collapsed": false
   },
   "outputs": [
    {
     "data": {
      "text/html": [
       "<div>\n",
       "<table border=\"1\" class=\"dataframe\">\n",
       "  <thead>\n",
       "    <tr style=\"text-align: right;\">\n",
       "      <th></th>\n",
       "      <th>x</th>\n",
       "      <th>y</th>\n",
       "      <th>timestamp</th>\n",
       "      <th>gpx</th>\n",
       "      <th>gpy</th>\n",
       "      <th>gvx</th>\n",
       "      <th>gvy</th>\n",
       "    </tr>\n",
       "  </thead>\n",
       "  <tbody>\n",
       "    <tr>\n",
       "      <th>1</th>\n",
       "      <td>8.44818</td>\n",
       "      <td>0.251553</td>\n",
       "      <td>1.477010e+15</td>\n",
       "      <td>8.45</td>\n",
       "      <td>0.25</td>\n",
       "      <td>-3.00027</td>\n",
       "      <td>0.00000</td>\n",
       "    </tr>\n",
       "    <tr>\n",
       "      <th>3</th>\n",
       "      <td>8.45582</td>\n",
       "      <td>0.253997</td>\n",
       "      <td>1.477010e+15</td>\n",
       "      <td>8.45</td>\n",
       "      <td>0.25</td>\n",
       "      <td>0.00000</td>\n",
       "      <td>0.00000</td>\n",
       "    </tr>\n",
       "    <tr>\n",
       "      <th>5</th>\n",
       "      <td>8.23962</td>\n",
       "      <td>0.249160</td>\n",
       "      <td>1.477010e+15</td>\n",
       "      <td>8.25</td>\n",
       "      <td>0.25</td>\n",
       "      <td>-1.81978</td>\n",
       "      <td>0.00000</td>\n",
       "    </tr>\n",
       "    <tr>\n",
       "      <th>7</th>\n",
       "      <td>7.84073</td>\n",
       "      <td>0.159858</td>\n",
       "      <td>1.477010e+15</td>\n",
       "      <td>7.85</td>\n",
       "      <td>0.15</td>\n",
       "      <td>-3.99972</td>\n",
       "      <td>-0.99993</td>\n",
       "    </tr>\n",
       "    <tr>\n",
       "      <th>9</th>\n",
       "      <td>7.54016</td>\n",
       "      <td>0.159641</td>\n",
       "      <td>1.477010e+15</td>\n",
       "      <td>7.55</td>\n",
       "      <td>0.15</td>\n",
       "      <td>-2.99982</td>\n",
       "      <td>0.00000</td>\n",
       "    </tr>\n",
       "  </tbody>\n",
       "</table>\n",
       "</div>"
      ],
      "text/plain": [
       "         x         y     timestamp   gpx   gpy      gvx      gvy\n",
       "1  8.44818  0.251553  1.477010e+15  8.45  0.25 -3.00027  0.00000\n",
       "3  8.45582  0.253997  1.477010e+15  8.45  0.25  0.00000  0.00000\n",
       "5  8.23962  0.249160  1.477010e+15  8.25  0.25 -1.81978  0.00000\n",
       "7  7.84073  0.159858  1.477010e+15  7.85  0.15 -3.99972 -0.99993\n",
       "9  7.54016  0.159641  1.477010e+15  7.55  0.15 -2.99982  0.00000"
      ]
     },
     "execution_count": 3,
     "metadata": {},
     "output_type": "execute_result"
    }
   ],
   "source": [
    "laser_df.head(5)"
   ]
  },
  {
   "cell_type": "code",
   "execution_count": 4,
   "metadata": {
    "collapsed": false
   },
   "outputs": [
    {
     "data": {
      "text/html": [
       "<div>\n",
       "<table border=\"1\" class=\"dataframe\">\n",
       "  <thead>\n",
       "    <tr style=\"text-align: right;\">\n",
       "      <th></th>\n",
       "      <th>rho</th>\n",
       "      <th>phi</th>\n",
       "      <th>rho_dot</th>\n",
       "      <th>timestamp</th>\n",
       "      <th>gpx</th>\n",
       "      <th>gpy</th>\n",
       "      <th>gvx</th>\n",
       "      <th>gvy</th>\n",
       "    </tr>\n",
       "  </thead>\n",
       "  <tbody>\n",
       "    <tr>\n",
       "      <th>0</th>\n",
       "      <td>8.46642</td>\n",
       "      <td>0.028760</td>\n",
       "      <td>-3.040350</td>\n",
       "      <td>1.477010e+15</td>\n",
       "      <td>8.60</td>\n",
       "      <td>0.25</td>\n",
       "      <td>-3.00029</td>\n",
       "      <td>0.00000</td>\n",
       "    </tr>\n",
       "    <tr>\n",
       "      <th>2</th>\n",
       "      <td>8.57101</td>\n",
       "      <td>0.028232</td>\n",
       "      <td>-0.010526</td>\n",
       "      <td>1.477010e+15</td>\n",
       "      <td>8.45</td>\n",
       "      <td>0.25</td>\n",
       "      <td>0.00000</td>\n",
       "      <td>0.00000</td>\n",
       "    </tr>\n",
       "    <tr>\n",
       "      <th>4</th>\n",
       "      <td>8.42927</td>\n",
       "      <td>0.030143</td>\n",
       "      <td>-1.858130</td>\n",
       "      <td>1.477010e+15</td>\n",
       "      <td>8.35</td>\n",
       "      <td>0.25</td>\n",
       "      <td>-1.81979</td>\n",
       "      <td>0.00000</td>\n",
       "    </tr>\n",
       "    <tr>\n",
       "      <th>6</th>\n",
       "      <td>7.93510</td>\n",
       "      <td>0.023744</td>\n",
       "      <td>-3.810770</td>\n",
       "      <td>1.477010e+15</td>\n",
       "      <td>8.05</td>\n",
       "      <td>0.20</td>\n",
       "      <td>-3.99976</td>\n",
       "      <td>-0.99994</td>\n",
       "    </tr>\n",
       "    <tr>\n",
       "      <th>8</th>\n",
       "      <td>7.61428</td>\n",
       "      <td>0.020465</td>\n",
       "      <td>-3.220520</td>\n",
       "      <td>1.477010e+15</td>\n",
       "      <td>7.70</td>\n",
       "      <td>0.15</td>\n",
       "      <td>-2.99982</td>\n",
       "      <td>0.00000</td>\n",
       "    </tr>\n",
       "  </tbody>\n",
       "</table>\n",
       "</div>"
      ],
      "text/plain": [
       "       rho       phi   rho_dot     timestamp   gpx   gpy      gvx      gvy\n",
       "0  8.46642  0.028760 -3.040350  1.477010e+15  8.60  0.25 -3.00029  0.00000\n",
       "2  8.57101  0.028232 -0.010526  1.477010e+15  8.45  0.25  0.00000  0.00000\n",
       "4  8.42927  0.030143 -1.858130  1.477010e+15  8.35  0.25 -1.81979  0.00000\n",
       "6  7.93510  0.023744 -3.810770  1.477010e+15  8.05  0.20 -3.99976 -0.99994\n",
       "8  7.61428  0.020465 -3.220520  1.477010e+15  7.70  0.15 -2.99982  0.00000"
      ]
     },
     "execution_count": 4,
     "metadata": {},
     "output_type": "execute_result"
    }
   ],
   "source": [
    "radar_df.head(5)"
   ]
  },
  {
   "cell_type": "markdown",
   "metadata": {},
   "source": [
    "### Extract the x, y data and the corresponding ground truth data"
   ]
  },
  {
   "cell_type": "code",
   "execution_count": 5,
   "metadata": {
    "collapsed": true
   },
   "outputs": [],
   "source": [
    "xdata=np.array(laser_df['x'].values)\n",
    "gpxdata=np.array(laser_df['gpx'].values)\n",
    "vxdata=gpxdata-xdata\n",
    "ydata=np.array(laser_df['y'].values)\n",
    "gpydata=np.array(laser_df['gpy'].values)\n",
    "vydata=gpydata-ydata"
   ]
  },
  {
   "cell_type": "code",
   "execution_count": 6,
   "metadata": {
    "collapsed": false
   },
   "outputs": [
    {
     "data": {
      "text/plain": [
       "[<matplotlib.lines.Line2D at 0x11530a198>]"
      ]
     },
     "execution_count": 6,
     "metadata": {},
     "output_type": "execute_result"
    },
    {
     "data": {
      "image/png": "[encoded data removed]",
      "text/plain": [
       "<matplotlib.figure.Figure at 0x11530a160>"
      ]
     },
     "metadata": {},
     "output_type": "display_data"
    }
   ],
   "source": [
    "plt.plot(xdata, ydata, 'b-', label='data')\n",
    "plt.plot(gpxdata, gpydata, 'g-', label='gt')"
   ]
  },
  {
   "cell_type": "markdown",
   "metadata": {},
   "source": [
    "### Have a look at the difference between the x, y and ground truth x y"
   ]
  },
  {
   "cell_type": "code",
   "execution_count": 7,
   "metadata": {
    "collapsed": false
   },
   "outputs": [
    {
     "data": {
      "text/plain": [
       "[<matplotlib.lines.Line2D at 0x11534d358>]"
      ]
     },
     "execution_count": 7,
     "metadata": {},
     "output_type": "execute_result"
    },
    {
     "data": {
      "image/png": "[encoded data removed]",
      "text/plain": [
       "<matplotlib.figure.Figure at 0x1152f0a58>"
      ]
     },
     "metadata": {},
     "output_type": "display_data"
    }
   ],
   "source": [
    "plt.plot(vxdata)"
   ]
  },
  {
   "cell_type": "code",
   "execution_count": 8,
   "metadata": {
    "collapsed": false
   },
   "outputs": [
    {
     "data": {
      "text/plain": [
       "[<matplotlib.lines.Line2D at 0x11553df98>]"
      ]
     },
     "execution_count": 8,
     "metadata": {},
     "output_type": "execute_result"
    },
    {
     "data": {
      "image/png": "[encoded data removed]",
      "text/plain": [
       "<matplotlib.figure.Figure at 0x115458668>"
      ]
     },
     "metadata": {},
     "output_type": "display_data"
    }
   ],
   "source": [
    "plt.plot(vydata)"
   ]
  },
  {
   "cell_type": "markdown",
   "metadata": {},
   "source": [
    "### Variance in the differences (laser data)"
   ]
  },
  {
   "cell_type": "code",
   "execution_count": 9,
   "metadata": {
    "collapsed": false
   },
   "outputs": [
    {
     "data": {
      "text/plain": [
       "(0.0068374897772981421, 0.0054887300686829819)"
      ]
     },
     "execution_count": 9,
     "metadata": {},
     "output_type": "execute_result"
    }
   ],
   "source": [
    "np.var(vxdata), np.var(vydata)"
   ]
  },
  {
   "cell_type": "markdown",
   "metadata": {},
   "source": [
    "### Variance in the differences (radar data) - converted between cartesian/polar"
   ]
  },
  {
   "cell_type": "code",
   "execution_count": 10,
   "metadata": {
    "collapsed": true
   },
   "outputs": [],
   "source": [
    "def calc_hx(gpx,gpy,gvx,gvy):\n",
    "    if gpx == 0:\n",
    "        return 0,0,0\n",
    "    rho = math.sqrt(gpx*gpx + gpy*gpy)\n",
    "    phi = math.atan(gpy/gpx)\n",
    "    rho_dot = (gpx*gvx + gpy*gvy)/rho\n",
    "    return np.array([rho,phi,rho_dot])"
   ]
  },
  {
   "cell_type": "code",
   "execution_count": 11,
   "metadata": {
    "collapsed": false,
    "scrolled": false
   },
   "outputs": [],
   "source": [
    "ghs=[ np.hstack([z[0], z[1], z[2], calc_hx(z[3], z[4], z[5], z[6])]) for z in radar_df.as_matrix(['rho', 'phi', 'rho_dot', 'gpx', 'gpy', 'gvx', 'gvy'])]\n",
    "\n",
    "gr_df = pd.DataFrame(ghs)\n",
    "gr_df.columns = ['rho', 'phi', 'rho_dot', 'grho', 'gphi', 'grho_dot']\n",
    "vrhodata=np.array(gr_df['grho'].values -gr_df['rho'].values)\n",
    "vphidata=np.array(gr_df['gphi'].values -gr_df['phi'].values)\n",
    "vrhodotdata=np.array(gr_df['grho_dot'].values -gr_df['rho_dot'].values)\n",
    "#gr_df"
   ]
  },
  {
   "cell_type": "code",
   "execution_count": 12,
   "metadata": {
    "collapsed": false
   },
   "outputs": [
    {
     "data": {
      "text/plain": [
       "(0.014412589090776581, 1.3610836622321855e-06, 0.011073356944289297)"
      ]
     },
     "execution_count": 12,
     "metadata": {},
     "output_type": "execute_result"
    }
   ],
   "source": [
    "np.var(vrhodata), np.var(vphidata), np.var(vrhodotdata)"
   ]
  },
  {
   "cell_type": "code",
   "execution_count": 15,
   "metadata": {
    "collapsed": false
   },
   "outputs": [
    {
     "data": {
      "text/html": [
       "<div>\n",
       "<table border=\"1\" class=\"dataframe\">\n",
       "  <thead>\n",
       "    <tr style=\"text-align: right;\">\n",
       "      <th></th>\n",
       "      <th>c2</th>\n",
       "      <th>c3</th>\n",
       "      <th>c4</th>\n",
       "      <th>c5</th>\n",
       "      <th>c6</th>\n",
       "    </tr>\n",
       "  </thead>\n",
       "  <tbody>\n",
       "    <tr>\n",
       "      <th>c2</th>\n",
       "      <td>1.534711e+03</td>\n",
       "      <td>1.904515e+02</td>\n",
       "      <td>-1.108100e+15</td>\n",
       "      <td>1.108101e+15</td>\n",
       "      <td>9.668266e+02</td>\n",
       "    </tr>\n",
       "    <tr>\n",
       "      <th>c3</th>\n",
       "      <td>1.904515e+02</td>\n",
       "      <td>5.851682e+01</td>\n",
       "      <td>-8.873367e+14</td>\n",
       "      <td>8.873367e+14</td>\n",
       "      <td>7.638459e+01</td>\n",
       "    </tr>\n",
       "    <tr>\n",
       "      <th>c4</th>\n",
       "      <td>-1.108100e+15</td>\n",
       "      <td>-8.873367e+14</td>\n",
       "      <td>5.457733e+29</td>\n",
       "      <td>-5.457733e+29</td>\n",
       "      <td>-8.940277e+15</td>\n",
       "    </tr>\n",
       "    <tr>\n",
       "      <th>c5</th>\n",
       "      <td>1.108101e+15</td>\n",
       "      <td>8.873367e+14</td>\n",
       "      <td>-5.457733e+29</td>\n",
       "      <td>5.457733e+29</td>\n",
       "      <td>8.940277e+15</td>\n",
       "    </tr>\n",
       "    <tr>\n",
       "      <th>c6</th>\n",
       "      <td>9.668266e+02</td>\n",
       "      <td>7.638459e+01</td>\n",
       "      <td>-8.940277e+15</td>\n",
       "      <td>8.940277e+15</td>\n",
       "      <td>9.733637e+02</td>\n",
       "    </tr>\n",
       "  </tbody>\n",
       "</table>\n",
       "</div>"
      ],
      "text/plain": [
       "              c2            c3            c4            c5            c6\n",
       "c2  1.534711e+03  1.904515e+02 -1.108100e+15  1.108101e+15  9.668266e+02\n",
       "c3  1.904515e+02  5.851682e+01 -8.873367e+14  8.873367e+14  7.638459e+01\n",
       "c4 -1.108100e+15 -8.873367e+14  5.457733e+29 -5.457733e+29 -8.940277e+15\n",
       "c5  1.108101e+15  8.873367e+14 -5.457733e+29  5.457733e+29  8.940277e+15\n",
       "c6  9.668266e+02  7.638459e+01 -8.940277e+15  8.940277e+15  9.733637e+02"
      ]
     },
     "execution_count": 15,
     "metadata": {},
     "output_type": "execute_result"
    }
   ],
   "source": [
    "cov_table = table.copy()\n",
    "cov_table.reindex()\n",
    "del cov_table['c7']\n",
    "del cov_table['c8']\n",
    "del cov_table['c9']\n",
    "#cov_table.columns = ['px','py','v','gpx','gpy','gvx','gvy']\n",
    "cov_table.cov()"
   ]
  },
  {
   "cell_type": "code",
   "execution_count": null,
   "metadata": {
    "collapsed": true
   },
   "outputs": [],
   "source": []
  }
 ],
 "metadata": {
  "kernelspec": {
   "display_name": "Python 3",
   "language": "python",
   "name": "python3"
  },
  "language_info": {
   "codemirror_mode": {
    "name": "ipython",
    "version": 3
   },
   "file_extension": ".py",
   "mimetype": "text/x-python",
   "name": "python",
   "nbconvert_exporter": "python",
   "pygments_lexer": "ipython3",
   "version": "3.5.2"
  },
  "widgets": {
   "state": {},
   "version": "1.1.2"
  }
 },
 "nbformat": 4,
 "nbformat_minor": 2
}
